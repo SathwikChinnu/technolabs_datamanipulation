{
 "cells": [
  {
   "cell_type": "markdown",
   "id": "9f1025d6",
   "metadata": {
    "papermill": {
     "duration": 0.007385,
     "end_time": "2023-01-13T20:52:36.956939",
     "exception": false,
     "start_time": "2023-01-13T20:52:36.949554",
     "status": "completed"
    },
    "tags": []
   },
   "source": [
    "**This notebook is an exercise in the [Pandas](https://www.kaggle.com/learn/pandas) course.  You can reference the tutorial at [this link](https://www.kaggle.com/residentmario/grouping-and-sorting).**\n",
    "\n",
    "---\n"
   ]
  },
  {
   "cell_type": "markdown",
   "id": "b2be6eef",
   "metadata": {
    "papermill": {
     "duration": 0.006356,
     "end_time": "2023-01-13T20:52:36.969394",
     "exception": false,
     "start_time": "2023-01-13T20:52:36.963038",
     "status": "completed"
    },
    "tags": []
   },
   "source": [
    "# Introduction\n",
    "\n",
    "In these exercises we'll apply groupwise analysis to our dataset.\n",
    "\n",
    "Run the code cell below to load the data before running the exercises."
   ]
  },
  {
   "cell_type": "code",
   "execution_count": 1,
   "id": "b8efa6ab",
   "metadata": {
    "execution": {
     "iopub.execute_input": "2023-01-13T20:52:36.984564Z",
     "iopub.status.busy": "2023-01-13T20:52:36.983382Z",
     "iopub.status.idle": "2023-01-13T20:52:40.192245Z",
     "shell.execute_reply": "2023-01-13T20:52:40.190755Z"
    },
    "papermill": {
     "duration": 3.219532,
     "end_time": "2023-01-13T20:52:40.195564",
     "exception": false,
     "start_time": "2023-01-13T20:52:36.976032",
     "status": "completed"
    },
    "tags": []
   },
   "outputs": [
    {
     "name": "stdout",
     "output_type": "stream",
     "text": [
      "Setup complete.\n"
     ]
    }
   ],
   "source": [
    "import pandas as pd\n",
    "\n",
    "reviews = pd.read_csv(\"../input/wine-reviews/winemag-data-130k-v2.csv\", index_col=0)\n",
    "#pd.set_option(\"display.max_rows\", 5)\n",
    "\n",
    "from learntools.core import binder; binder.bind(globals())\n",
    "from learntools.pandas.grouping_and_sorting import *\n",
    "print(\"Setup complete.\")"
   ]
  },
  {
   "cell_type": "markdown",
   "id": "0816427a",
   "metadata": {
    "papermill": {
     "duration": 0.006032,
     "end_time": "2023-01-13T20:52:40.208472",
     "exception": false,
     "start_time": "2023-01-13T20:52:40.202440",
     "status": "completed"
    },
    "tags": []
   },
   "source": [
    "# Exercises"
   ]
  },
  {
   "cell_type": "markdown",
   "id": "edf79ff4",
   "metadata": {
    "papermill": {
     "duration": 0.005676,
     "end_time": "2023-01-13T20:52:40.220962",
     "exception": false,
     "start_time": "2023-01-13T20:52:40.215286",
     "status": "completed"
    },
    "tags": []
   },
   "source": [
    "## 1.\n",
    "Who are the most common wine reviewers in the dataset? Create a `Series` whose index is the `taster_twitter_handle` category from the dataset, and whose values count how many reviews each person wrote."
   ]
  },
  {
   "cell_type": "code",
   "execution_count": 2,
   "id": "857aacf5",
   "metadata": {
    "execution": {
     "iopub.execute_input": "2023-01-13T20:52:40.234693Z",
     "iopub.status.busy": "2023-01-13T20:52:40.234218Z",
     "iopub.status.idle": "2023-01-13T20:52:40.266980Z",
     "shell.execute_reply": "2023-01-13T20:52:40.265488Z"
    },
    "papermill": {
     "duration": 0.04264,
     "end_time": "2023-01-13T20:52:40.269595",
     "exception": false,
     "start_time": "2023-01-13T20:52:40.226955",
     "status": "completed"
    },
    "tags": []
   },
   "outputs": [
    {
     "data": {
      "application/javascript": [
       "parent.postMessage({\"jupyterEvent\": \"custom.exercise_interaction\", \"data\": {\"outcomeType\": 1, \"valueTowardsCompletion\": 0.16666666666666666, \"interactionType\": 1, \"questionType\": 1, \"questionId\": \"1_ReviewsWritten\", \"learnToolsVersion\": \"0.3.4\", \"failureMessage\": \"\", \"exceptionClass\": \"\", \"trace\": \"\"}}, \"*\")"
      ],
      "text/plain": [
       "<IPython.core.display.Javascript object>"
      ]
     },
     "metadata": {},
     "output_type": "display_data"
    },
    {
     "data": {
      "text/markdown": [
       "<span style=\"color:#33cc33\">Correct:</span> \n",
       "\n",
       "\n",
       "```python\n",
       "reviews_written = reviews.groupby('taster_twitter_handle').size()\n",
       "```\n",
       "or\n",
       "```python\n",
       "reviews_written = reviews.groupby('taster_twitter_handle').taster_twitter_handle.count()\n",
       "```\n"
      ],
      "text/plain": [
       "Correct: \n",
       "\n",
       "\n",
       "```python\n",
       "reviews_written = reviews.groupby('taster_twitter_handle').size()\n",
       "```\n",
       "or\n",
       "```python\n",
       "reviews_written = reviews.groupby('taster_twitter_handle').taster_twitter_handle.count()\n",
       "```"
      ]
     },
     "metadata": {},
     "output_type": "display_data"
    }
   ],
   "source": [
    "# Your code here\n",
    "reviews_written = reviews.groupby('taster_twitter_handle').taster_twitter_handle.count()\n",
    "\n",
    "# Check your answer\n",
    "q1.check()"
   ]
  },
  {
   "cell_type": "code",
   "execution_count": 3,
   "id": "3650e07d",
   "metadata": {
    "execution": {
     "iopub.execute_input": "2023-01-13T20:52:40.285412Z",
     "iopub.status.busy": "2023-01-13T20:52:40.284982Z",
     "iopub.status.idle": "2023-01-13T20:52:40.289836Z",
     "shell.execute_reply": "2023-01-13T20:52:40.288465Z"
    },
    "papermill": {
     "duration": 0.015973,
     "end_time": "2023-01-13T20:52:40.292460",
     "exception": false,
     "start_time": "2023-01-13T20:52:40.276487",
     "status": "completed"
    },
    "tags": []
   },
   "outputs": [],
   "source": [
    "#q1.hint()\n",
    "#q1.solution()"
   ]
  },
  {
   "cell_type": "markdown",
   "id": "d4c86eac",
   "metadata": {
    "papermill": {
     "duration": 0.008449,
     "end_time": "2023-01-13T20:52:40.307636",
     "exception": false,
     "start_time": "2023-01-13T20:52:40.299187",
     "status": "completed"
    },
    "tags": []
   },
   "source": [
    "## 2.\n",
    "What is the best wine I can buy for a given amount of money? Create a `Series` whose index is wine prices and whose values is the maximum number of points a wine costing that much was given in a review. Sort the values by price, ascending (so that `4.0` dollars is at the top and `3300.0` dollars is at the bottom)."
   ]
  },
  {
   "cell_type": "code",
   "execution_count": 4,
   "id": "5d32393b",
   "metadata": {
    "execution": {
     "iopub.execute_input": "2023-01-13T20:52:40.322439Z",
     "iopub.status.busy": "2023-01-13T20:52:40.322006Z",
     "iopub.status.idle": "2023-01-13T20:52:40.339561Z",
     "shell.execute_reply": "2023-01-13T20:52:40.338163Z"
    },
    "papermill": {
     "duration": 0.028139,
     "end_time": "2023-01-13T20:52:40.342398",
     "exception": false,
     "start_time": "2023-01-13T20:52:40.314259",
     "status": "completed"
    },
    "tags": []
   },
   "outputs": [
    {
     "data": {
      "application/javascript": [
       "parent.postMessage({\"jupyterEvent\": \"custom.exercise_interaction\", \"data\": {\"outcomeType\": 1, \"valueTowardsCompletion\": 0.16666666666666666, \"interactionType\": 1, \"questionType\": 1, \"questionId\": \"2_BestRatingPerPrice\", \"learnToolsVersion\": \"0.3.4\", \"failureMessage\": \"\", \"exceptionClass\": \"\", \"trace\": \"\"}}, \"*\")"
      ],
      "text/plain": [
       "<IPython.core.display.Javascript object>"
      ]
     },
     "metadata": {},
     "output_type": "display_data"
    },
    {
     "data": {
      "text/markdown": [
       "<span style=\"color:#33cc33\">Correct</span>"
      ],
      "text/plain": [
       "Correct"
      ]
     },
     "metadata": {},
     "output_type": "display_data"
    }
   ],
   "source": [
    "best_rating_per_price = reviews.groupby('price')['points'].max().sort_index()\n",
    "\n",
    "# Check your answer\n",
    "q2.check()"
   ]
  },
  {
   "cell_type": "code",
   "execution_count": 5,
   "id": "fdbc2a6d",
   "metadata": {
    "execution": {
     "iopub.execute_input": "2023-01-13T20:52:40.358583Z",
     "iopub.status.busy": "2023-01-13T20:52:40.358172Z",
     "iopub.status.idle": "2023-01-13T20:52:40.363063Z",
     "shell.execute_reply": "2023-01-13T20:52:40.362043Z"
    },
    "papermill": {
     "duration": 0.016171,
     "end_time": "2023-01-13T20:52:40.365793",
     "exception": false,
     "start_time": "2023-01-13T20:52:40.349622",
     "status": "completed"
    },
    "tags": []
   },
   "outputs": [],
   "source": [
    "#q2.hint()\n",
    "#q2.solution()"
   ]
  },
  {
   "cell_type": "markdown",
   "id": "f5b4a798",
   "metadata": {
    "papermill": {
     "duration": 0.007072,
     "end_time": "2023-01-13T20:52:40.379899",
     "exception": false,
     "start_time": "2023-01-13T20:52:40.372827",
     "status": "completed"
    },
    "tags": []
   },
   "source": [
    "## 3.\n",
    "What are the minimum and maximum prices for each `variety` of wine? Create a `DataFrame` whose index is the `variety` category from the dataset and whose values are the `min` and `max` values thereof."
   ]
  },
  {
   "cell_type": "code",
   "execution_count": 6,
   "id": "d89fd9ae",
   "metadata": {
    "execution": {
     "iopub.execute_input": "2023-01-13T20:52:40.395908Z",
     "iopub.status.busy": "2023-01-13T20:52:40.395420Z",
     "iopub.status.idle": "2023-01-13T20:52:40.423415Z",
     "shell.execute_reply": "2023-01-13T20:52:40.422474Z"
    },
    "papermill": {
     "duration": 0.039367,
     "end_time": "2023-01-13T20:52:40.426316",
     "exception": false,
     "start_time": "2023-01-13T20:52:40.386949",
     "status": "completed"
    },
    "tags": []
   },
   "outputs": [
    {
     "data": {
      "application/javascript": [
       "parent.postMessage({\"jupyterEvent\": \"custom.exercise_interaction\", \"data\": {\"outcomeType\": 1, \"valueTowardsCompletion\": 0.16666666666666666, \"interactionType\": 1, \"questionType\": 1, \"questionId\": \"3_PriceExtremes\", \"learnToolsVersion\": \"0.3.4\", \"failureMessage\": \"\", \"exceptionClass\": \"\", \"trace\": \"\"}}, \"*\")"
      ],
      "text/plain": [
       "<IPython.core.display.Javascript object>"
      ]
     },
     "metadata": {},
     "output_type": "display_data"
    },
    {
     "data": {
      "text/markdown": [
       "<span style=\"color:#33cc33\">Correct</span>"
      ],
      "text/plain": [
       "Correct"
      ]
     },
     "metadata": {},
     "output_type": "display_data"
    }
   ],
   "source": [
    "price_extremes = reviews.groupby('variety').price.agg([min, max])\n",
    "\n",
    "# Check your answer\n",
    "q3.check()"
   ]
  },
  {
   "cell_type": "code",
   "execution_count": 7,
   "id": "0378f2fc",
   "metadata": {
    "execution": {
     "iopub.execute_input": "2023-01-13T20:52:40.443193Z",
     "iopub.status.busy": "2023-01-13T20:52:40.442762Z",
     "iopub.status.idle": "2023-01-13T20:52:40.447952Z",
     "shell.execute_reply": "2023-01-13T20:52:40.446575Z"
    },
    "papermill": {
     "duration": 0.016779,
     "end_time": "2023-01-13T20:52:40.450518",
     "exception": false,
     "start_time": "2023-01-13T20:52:40.433739",
     "status": "completed"
    },
    "tags": []
   },
   "outputs": [],
   "source": [
    "#q3.hint()\n",
    "#q3.solution()"
   ]
  },
  {
   "cell_type": "markdown",
   "id": "995e1c9c",
   "metadata": {
    "papermill": {
     "duration": 0.007,
     "end_time": "2023-01-13T20:52:40.464823",
     "exception": false,
     "start_time": "2023-01-13T20:52:40.457823",
     "status": "completed"
    },
    "tags": []
   },
   "source": [
    "## 4.\n",
    "What are the most expensive wine varieties? Create a variable `sorted_varieties` containing a copy of the dataframe from the previous question where varieties are sorted in descending order based on minimum price, then on maximum price (to break ties)."
   ]
  },
  {
   "cell_type": "code",
   "execution_count": 8,
   "id": "d035f3c6",
   "metadata": {
    "execution": {
     "iopub.execute_input": "2023-01-13T20:52:40.481526Z",
     "iopub.status.busy": "2023-01-13T20:52:40.481078Z",
     "iopub.status.idle": "2023-01-13T20:52:40.492948Z",
     "shell.execute_reply": "2023-01-13T20:52:40.491734Z"
    },
    "papermill": {
     "duration": 0.022841,
     "end_time": "2023-01-13T20:52:40.495472",
     "exception": false,
     "start_time": "2023-01-13T20:52:40.472631",
     "status": "completed"
    },
    "tags": []
   },
   "outputs": [
    {
     "data": {
      "application/javascript": [
       "parent.postMessage({\"jupyterEvent\": \"custom.exercise_interaction\", \"data\": {\"outcomeType\": 1, \"valueTowardsCompletion\": 0.16666666666666666, \"interactionType\": 1, \"questionType\": 1, \"questionId\": \"4_SortedVarieties\", \"learnToolsVersion\": \"0.3.4\", \"failureMessage\": \"\", \"exceptionClass\": \"\", \"trace\": \"\"}}, \"*\")"
      ],
      "text/plain": [
       "<IPython.core.display.Javascript object>"
      ]
     },
     "metadata": {},
     "output_type": "display_data"
    },
    {
     "data": {
      "text/markdown": [
       "<span style=\"color:#33cc33\">Correct</span>"
      ],
      "text/plain": [
       "Correct"
      ]
     },
     "metadata": {},
     "output_type": "display_data"
    }
   ],
   "source": [
    "sorted_varieties = price_extremes.sort_values(by=['min', 'max'], ascending=False)\n",
    "\n",
    "# Check your answer\n",
    "q4.check()"
   ]
  },
  {
   "cell_type": "code",
   "execution_count": 9,
   "id": "92e8422b",
   "metadata": {
    "execution": {
     "iopub.execute_input": "2023-01-13T20:52:40.512237Z",
     "iopub.status.busy": "2023-01-13T20:52:40.511795Z",
     "iopub.status.idle": "2023-01-13T20:52:40.516705Z",
     "shell.execute_reply": "2023-01-13T20:52:40.515228Z"
    },
    "papermill": {
     "duration": 0.016138,
     "end_time": "2023-01-13T20:52:40.519268",
     "exception": false,
     "start_time": "2023-01-13T20:52:40.503130",
     "status": "completed"
    },
    "tags": []
   },
   "outputs": [],
   "source": [
    "#q4.hint()\n",
    "#q4.solution()"
   ]
  },
  {
   "cell_type": "markdown",
   "id": "b0d3c74b",
   "metadata": {
    "papermill": {
     "duration": 0.006863,
     "end_time": "2023-01-13T20:52:40.533547",
     "exception": false,
     "start_time": "2023-01-13T20:52:40.526684",
     "status": "completed"
    },
    "tags": []
   },
   "source": [
    "## 5.\n",
    "Create a `Series` whose index is reviewers and whose values is the average review score given out by that reviewer. Hint: you will need the `taster_name` and `points` columns."
   ]
  },
  {
   "cell_type": "code",
   "execution_count": 10,
   "id": "ecb84db0",
   "metadata": {
    "execution": {
     "iopub.execute_input": "2023-01-13T20:52:40.550936Z",
     "iopub.status.busy": "2023-01-13T20:52:40.550119Z",
     "iopub.status.idle": "2023-01-13T20:52:40.573197Z",
     "shell.execute_reply": "2023-01-13T20:52:40.571932Z"
    },
    "papermill": {
     "duration": 0.035149,
     "end_time": "2023-01-13T20:52:40.575910",
     "exception": false,
     "start_time": "2023-01-13T20:52:40.540761",
     "status": "completed"
    },
    "tags": []
   },
   "outputs": [
    {
     "data": {
      "application/javascript": [
       "parent.postMessage({\"jupyterEvent\": \"custom.exercise_interaction\", \"data\": {\"outcomeType\": 1, \"valueTowardsCompletion\": 0.16666666666666666, \"interactionType\": 1, \"questionType\": 1, \"questionId\": \"5_ReviewerMeanRatings\", \"learnToolsVersion\": \"0.3.4\", \"failureMessage\": \"\", \"exceptionClass\": \"\", \"trace\": \"\"}}, \"*\")"
      ],
      "text/plain": [
       "<IPython.core.display.Javascript object>"
      ]
     },
     "metadata": {},
     "output_type": "display_data"
    },
    {
     "data": {
      "text/markdown": [
       "<span style=\"color:#33cc33\">Correct</span>"
      ],
      "text/plain": [
       "Correct"
      ]
     },
     "metadata": {},
     "output_type": "display_data"
    }
   ],
   "source": [
    "reviewer_mean_ratings = reviews.groupby('taster_name').points.mean()\n",
    "\n",
    "# Check your answer\n",
    "q5.check()"
   ]
  },
  {
   "cell_type": "code",
   "execution_count": 11,
   "id": "41eb78bd",
   "metadata": {
    "execution": {
     "iopub.execute_input": "2023-01-13T20:52:40.594252Z",
     "iopub.status.busy": "2023-01-13T20:52:40.593061Z",
     "iopub.status.idle": "2023-01-13T20:52:40.597745Z",
     "shell.execute_reply": "2023-01-13T20:52:40.596794Z"
    },
    "papermill": {
     "duration": 0.016885,
     "end_time": "2023-01-13T20:52:40.600339",
     "exception": false,
     "start_time": "2023-01-13T20:52:40.583454",
     "status": "completed"
    },
    "tags": []
   },
   "outputs": [],
   "source": [
    "#q5.hint()\n",
    "#q5.solution()"
   ]
  },
  {
   "cell_type": "markdown",
   "id": "69822b69",
   "metadata": {
    "papermill": {
     "duration": 0.007726,
     "end_time": "2023-01-13T20:52:40.616156",
     "exception": false,
     "start_time": "2023-01-13T20:52:40.608430",
     "status": "completed"
    },
    "tags": []
   },
   "source": [
    "Are there significant differences in the average scores assigned by the various reviewers? Run the cell below to use the `describe()` method to see a summary of the range of values."
   ]
  },
  {
   "cell_type": "code",
   "execution_count": 12,
   "id": "59d15dec",
   "metadata": {
    "execution": {
     "iopub.execute_input": "2023-01-13T20:52:40.634097Z",
     "iopub.status.busy": "2023-01-13T20:52:40.632894Z",
     "iopub.status.idle": "2023-01-13T20:52:40.647934Z",
     "shell.execute_reply": "2023-01-13T20:52:40.646422Z"
    },
    "papermill": {
     "duration": 0.02706,
     "end_time": "2023-01-13T20:52:40.650903",
     "exception": false,
     "start_time": "2023-01-13T20:52:40.623843",
     "status": "completed"
    },
    "tags": []
   },
   "outputs": [
    {
     "data": {
      "text/plain": [
       "count    19.000000\n",
       "mean     88.233026\n",
       "std       1.243610\n",
       "min      85.855422\n",
       "25%      87.323501\n",
       "50%      88.536235\n",
       "75%      88.975256\n",
       "max      90.562551\n",
       "Name: points, dtype: float64"
      ]
     },
     "execution_count": 12,
     "metadata": {},
     "output_type": "execute_result"
    }
   ],
   "source": [
    "reviewer_mean_ratings.describe()"
   ]
  },
  {
   "cell_type": "markdown",
   "id": "3359b639",
   "metadata": {
    "papermill": {
     "duration": 0.007998,
     "end_time": "2023-01-13T20:52:40.667106",
     "exception": false,
     "start_time": "2023-01-13T20:52:40.659108",
     "status": "completed"
    },
    "tags": []
   },
   "source": [
    "## 6.\n",
    "What combination of countries and varieties are most common? Create a `Series` whose index is a `MultiIndex`of `{country, variety}` pairs. For example, a pinot noir produced in the US should map to `{\"US\", \"Pinot Noir\"}`. Sort the values in the `Series` in descending order based on wine count."
   ]
  },
  {
   "cell_type": "code",
   "execution_count": 13,
   "id": "a4e03a32",
   "metadata": {
    "execution": {
     "iopub.execute_input": "2023-01-13T20:52:40.683741Z",
     "iopub.status.busy": "2023-01-13T20:52:40.683287Z",
     "iopub.status.idle": "2023-01-13T20:52:40.721888Z",
     "shell.execute_reply": "2023-01-13T20:52:40.720607Z"
    },
    "papermill": {
     "duration": 0.050571,
     "end_time": "2023-01-13T20:52:40.724858",
     "exception": false,
     "start_time": "2023-01-13T20:52:40.674287",
     "status": "completed"
    },
    "tags": []
   },
   "outputs": [
    {
     "data": {
      "application/javascript": [
       "parent.postMessage({\"jupyterEvent\": \"custom.exercise_interaction\", \"data\": {\"outcomeType\": 1, \"valueTowardsCompletion\": 0.16666666666666666, \"interactionType\": 1, \"questionType\": 1, \"questionId\": \"6_GroupbyCountryVariety\", \"learnToolsVersion\": \"0.3.4\", \"failureMessage\": \"\", \"exceptionClass\": \"\", \"trace\": \"\"}}, \"*\")"
      ],
      "text/plain": [
       "<IPython.core.display.Javascript object>"
      ]
     },
     "metadata": {},
     "output_type": "display_data"
    },
    {
     "data": {
      "text/markdown": [
       "<span style=\"color:#33cc33\">Correct</span>"
      ],
      "text/plain": [
       "Correct"
      ]
     },
     "metadata": {},
     "output_type": "display_data"
    }
   ],
   "source": [
    "country_variety_counts = reviews.groupby(['country', 'variety']).size().sort_values(ascending=False)\n",
    "\n",
    "# Check your answer\n",
    "q6.check()"
   ]
  },
  {
   "cell_type": "code",
   "execution_count": 14,
   "id": "4e3b2278",
   "metadata": {
    "execution": {
     "iopub.execute_input": "2023-01-13T20:52:40.743191Z",
     "iopub.status.busy": "2023-01-13T20:52:40.742757Z",
     "iopub.status.idle": "2023-01-13T20:52:40.747973Z",
     "shell.execute_reply": "2023-01-13T20:52:40.746719Z"
    },
    "papermill": {
     "duration": 0.017679,
     "end_time": "2023-01-13T20:52:40.750702",
     "exception": false,
     "start_time": "2023-01-13T20:52:40.733023",
     "status": "completed"
    },
    "tags": []
   },
   "outputs": [],
   "source": [
    "#q6.hint()\n",
    "#q6.solution()"
   ]
  },
  {
   "cell_type": "markdown",
   "id": "e66df064",
   "metadata": {
    "papermill": {
     "duration": 0.007681,
     "end_time": "2023-01-13T20:52:40.765887",
     "exception": false,
     "start_time": "2023-01-13T20:52:40.758206",
     "status": "completed"
    },
    "tags": []
   },
   "source": [
    "# Keep going\n",
    "\n",
    "Move on to the [**data types and missing data**](https://www.kaggle.com/residentmario/data-types-and-missing-values)."
   ]
  },
  {
   "cell_type": "markdown",
   "id": "9c813e5d",
   "metadata": {
    "papermill": {
     "duration": 0.007168,
     "end_time": "2023-01-13T20:52:40.781092",
     "exception": false,
     "start_time": "2023-01-13T20:52:40.773924",
     "status": "completed"
    },
    "tags": []
   },
   "source": [
    "---\n",
    "\n",
    "\n",
    "\n",
    "\n",
    "*Have questions or comments? Visit the [course discussion forum](https://www.kaggle.com/learn/pandas/discussion) to chat with other learners.*"
   ]
  }
 ],
 "metadata": {
  "kernelspec": {
   "display_name": "Python 3",
   "language": "python",
   "name": "python3"
  },
  "language_info": {
   "codemirror_mode": {
    "name": "ipython",
    "version": 3
   },
   "file_extension": ".py",
   "mimetype": "text/x-python",
   "name": "python",
   "nbconvert_exporter": "python",
   "pygments_lexer": "ipython3",
   "version": "3.7.12"
  },
  "papermill": {
   "default_parameters": {},
   "duration": 16.205734,
   "end_time": "2023-01-13T20:52:43.533310",
   "environment_variables": {},
   "exception": null,
   "input_path": "__notebook__.ipynb",
   "output_path": "__notebook__.ipynb",
   "parameters": {},
   "start_time": "2023-01-13T20:52:27.327576",
   "version": "2.3.4"
  }
 },
 "nbformat": 4,
 "nbformat_minor": 5
}
