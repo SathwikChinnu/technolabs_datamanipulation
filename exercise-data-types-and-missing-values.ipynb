{
 "cells": [
  {
   "cell_type": "markdown",
   "id": "2c04f376",
   "metadata": {
    "papermill": {
     "duration": 0.005487,
     "end_time": "2023-01-13T21:11:18.742797",
     "exception": false,
     "start_time": "2023-01-13T21:11:18.737310",
     "status": "completed"
    },
    "tags": []
   },
   "source": [
    "**This notebook is an exercise in the [Pandas](https://www.kaggle.com/learn/pandas) course.  You can reference the tutorial at [this link](https://www.kaggle.com/residentmario/data-types-and-missing-values).**\n",
    "\n",
    "---\n"
   ]
  },
  {
   "cell_type": "markdown",
   "id": "85ae7335",
   "metadata": {
    "papermill": {
     "duration": 0.003965,
     "end_time": "2023-01-13T21:11:18.751238",
     "exception": false,
     "start_time": "2023-01-13T21:11:18.747273",
     "status": "completed"
    },
    "tags": []
   },
   "source": [
    "# Introduction\n",
    "\n",
    "Run the following cell to load your data and some utility functions."
   ]
  },
  {
   "cell_type": "code",
   "execution_count": 1,
   "id": "617aeb21",
   "metadata": {
    "execution": {
     "iopub.execute_input": "2023-01-13T21:11:18.761384Z",
     "iopub.status.busy": "2023-01-13T21:11:18.760897Z",
     "iopub.status.idle": "2023-01-13T21:11:21.603400Z",
     "shell.execute_reply": "2023-01-13T21:11:21.600673Z"
    },
    "papermill": {
     "duration": 2.850497,
     "end_time": "2023-01-13T21:11:21.605895",
     "exception": false,
     "start_time": "2023-01-13T21:11:18.755398",
     "status": "completed"
    },
    "tags": []
   },
   "outputs": [
    {
     "name": "stdout",
     "output_type": "stream",
     "text": [
      "Setup complete.\n"
     ]
    }
   ],
   "source": [
    "import pandas as pd\n",
    "\n",
    "reviews = pd.read_csv(\"../input/wine-reviews/winemag-data-130k-v2.csv\", index_col=0)\n",
    "\n",
    "from learntools.core import binder; binder.bind(globals())\n",
    "from learntools.pandas.data_types_and_missing_data import *\n",
    "print(\"Setup complete.\")"
   ]
  },
  {
   "cell_type": "markdown",
   "id": "be251d9f",
   "metadata": {
    "papermill": {
     "duration": 0.004333,
     "end_time": "2023-01-13T21:11:21.614646",
     "exception": false,
     "start_time": "2023-01-13T21:11:21.610313",
     "status": "completed"
    },
    "tags": []
   },
   "source": [
    "# Exercises"
   ]
  },
  {
   "cell_type": "markdown",
   "id": "81232320",
   "metadata": {
    "papermill": {
     "duration": 0.003875,
     "end_time": "2023-01-13T21:11:21.623017",
     "exception": false,
     "start_time": "2023-01-13T21:11:21.619142",
     "status": "completed"
    },
    "tags": []
   },
   "source": [
    "## 1. \n",
    "What is the data type of the `points` column in the dataset?"
   ]
  },
  {
   "cell_type": "code",
   "execution_count": 2,
   "id": "5ceef18a",
   "metadata": {
    "execution": {
     "iopub.execute_input": "2023-01-13T21:11:21.633172Z",
     "iopub.status.busy": "2023-01-13T21:11:21.632773Z",
     "iopub.status.idle": "2023-01-13T21:11:21.644401Z",
     "shell.execute_reply": "2023-01-13T21:11:21.643411Z"
    },
    "papermill": {
     "duration": 0.019471,
     "end_time": "2023-01-13T21:11:21.646850",
     "exception": false,
     "start_time": "2023-01-13T21:11:21.627379",
     "status": "completed"
    },
    "tags": []
   },
   "outputs": [
    {
     "data": {
      "application/javascript": [
       "parent.postMessage({\"jupyterEvent\": \"custom.exercise_interaction\", \"data\": {\"outcomeType\": 1, \"valueTowardsCompletion\": 0.25, \"interactionType\": 1, \"questionType\": 1, \"questionId\": \"1_PointsDtype\", \"learnToolsVersion\": \"0.3.4\", \"failureMessage\": \"\", \"exceptionClass\": \"\", \"trace\": \"\"}}, \"*\")"
      ],
      "text/plain": [
       "<IPython.core.display.Javascript object>"
      ]
     },
     "metadata": {},
     "output_type": "display_data"
    },
    {
     "data": {
      "text/markdown": [
       "<span style=\"color:#33cc33\">Correct</span>"
      ],
      "text/plain": [
       "Correct"
      ]
     },
     "metadata": {},
     "output_type": "display_data"
    }
   ],
   "source": [
    "# Your code here\n",
    "dtype = reviews.points.dtype\n",
    "\n",
    "# Check your answer\n",
    "q1.check()"
   ]
  },
  {
   "cell_type": "code",
   "execution_count": 3,
   "id": "247bbbfd",
   "metadata": {
    "execution": {
     "iopub.execute_input": "2023-01-13T21:11:21.664370Z",
     "iopub.status.busy": "2023-01-13T21:11:21.663731Z",
     "iopub.status.idle": "2023-01-13T21:11:21.670283Z",
     "shell.execute_reply": "2023-01-13T21:11:21.669485Z"
    },
    "papermill": {
     "duration": 0.017011,
     "end_time": "2023-01-13T21:11:21.672940",
     "exception": false,
     "start_time": "2023-01-13T21:11:21.655929",
     "status": "completed"
    },
    "tags": []
   },
   "outputs": [],
   "source": [
    "#q1.hint()\n",
    "#q1.solution()"
   ]
  },
  {
   "cell_type": "markdown",
   "id": "09f35064",
   "metadata": {
    "papermill": {
     "duration": 0.004303,
     "end_time": "2023-01-13T21:11:21.683060",
     "exception": false,
     "start_time": "2023-01-13T21:11:21.678757",
     "status": "completed"
    },
    "tags": []
   },
   "source": [
    "## 2. \n",
    "Create a Series from entries in the `points` column, but convert the entries to strings. Hint: strings are `str` in native Python."
   ]
  },
  {
   "cell_type": "code",
   "execution_count": 4,
   "id": "01961a8f",
   "metadata": {
    "execution": {
     "iopub.execute_input": "2023-01-13T21:11:21.699609Z",
     "iopub.status.busy": "2023-01-13T21:11:21.698422Z",
     "iopub.status.idle": "2023-01-13T21:11:21.799545Z",
     "shell.execute_reply": "2023-01-13T21:11:21.798583Z"
    },
    "papermill": {
     "duration": 0.111685,
     "end_time": "2023-01-13T21:11:21.801896",
     "exception": false,
     "start_time": "2023-01-13T21:11:21.690211",
     "status": "completed"
    },
    "tags": []
   },
   "outputs": [
    {
     "data": {
      "application/javascript": [
       "parent.postMessage({\"jupyterEvent\": \"custom.exercise_interaction\", \"data\": {\"outcomeType\": 1, \"valueTowardsCompletion\": 0.25, \"interactionType\": 1, \"questionType\": 1, \"questionId\": \"2_StrPoints\", \"learnToolsVersion\": \"0.3.4\", \"failureMessage\": \"\", \"exceptionClass\": \"\", \"trace\": \"\"}}, \"*\")"
      ],
      "text/plain": [
       "<IPython.core.display.Javascript object>"
      ]
     },
     "metadata": {},
     "output_type": "display_data"
    },
    {
     "data": {
      "text/markdown": [
       "<span style=\"color:#33cc33\">Correct</span>"
      ],
      "text/plain": [
       "Correct"
      ]
     },
     "metadata": {},
     "output_type": "display_data"
    }
   ],
   "source": [
    "point_strings = reviews.points.astype('str')\n",
    "\n",
    "# Check your answer\n",
    "q2.check()"
   ]
  },
  {
   "cell_type": "code",
   "execution_count": 5,
   "id": "4ad7368f",
   "metadata": {
    "execution": {
     "iopub.execute_input": "2023-01-13T21:11:21.813253Z",
     "iopub.status.busy": "2023-01-13T21:11:21.812850Z",
     "iopub.status.idle": "2023-01-13T21:11:21.817190Z",
     "shell.execute_reply": "2023-01-13T21:11:21.816181Z"
    },
    "papermill": {
     "duration": 0.012358,
     "end_time": "2023-01-13T21:11:21.819364",
     "exception": false,
     "start_time": "2023-01-13T21:11:21.807006",
     "status": "completed"
    },
    "tags": []
   },
   "outputs": [],
   "source": [
    "#q2.hint()\n",
    "#q2.solution()"
   ]
  },
  {
   "cell_type": "markdown",
   "id": "f2fc6e51",
   "metadata": {
    "papermill": {
     "duration": 0.004492,
     "end_time": "2023-01-13T21:11:21.828708",
     "exception": false,
     "start_time": "2023-01-13T21:11:21.824216",
     "status": "completed"
    },
    "tags": []
   },
   "source": [
    "## 3.\n",
    "Sometimes the price column is null. How many reviews in the dataset are missing a price?"
   ]
  },
  {
   "cell_type": "code",
   "execution_count": 6,
   "id": "133579ee",
   "metadata": {
    "execution": {
     "iopub.execute_input": "2023-01-13T21:11:21.840342Z",
     "iopub.status.busy": "2023-01-13T21:11:21.839651Z",
     "iopub.status.idle": "2023-01-13T21:11:21.849653Z",
     "shell.execute_reply": "2023-01-13T21:11:21.848426Z"
    },
    "papermill": {
     "duration": 0.01862,
     "end_time": "2023-01-13T21:11:21.852024",
     "exception": false,
     "start_time": "2023-01-13T21:11:21.833404",
     "status": "completed"
    },
    "tags": []
   },
   "outputs": [
    {
     "data": {
      "application/javascript": [
       "parent.postMessage({\"jupyterEvent\": \"custom.exercise_interaction\", \"data\": {\"outcomeType\": 1, \"valueTowardsCompletion\": 0.25, \"interactionType\": 1, \"questionType\": 1, \"questionId\": \"3_CountMissingPrices\", \"learnToolsVersion\": \"0.3.4\", \"failureMessage\": \"\", \"exceptionClass\": \"\", \"trace\": \"\"}}, \"*\")"
      ],
      "text/plain": [
       "<IPython.core.display.Javascript object>"
      ]
     },
     "metadata": {},
     "output_type": "display_data"
    },
    {
     "data": {
      "text/markdown": [
       "<span style=\"color:#33cc33\">Correct</span>"
      ],
      "text/plain": [
       "Correct"
      ]
     },
     "metadata": {},
     "output_type": "display_data"
    }
   ],
   "source": [
    "n_missing_prices = reviews.price.isnull().sum()\n",
    "\n",
    "# Check your answer\n",
    "q3.check()"
   ]
  },
  {
   "cell_type": "code",
   "execution_count": 7,
   "id": "bdb1a9a8",
   "metadata": {
    "execution": {
     "iopub.execute_input": "2023-01-13T21:11:21.863986Z",
     "iopub.status.busy": "2023-01-13T21:11:21.863569Z",
     "iopub.status.idle": "2023-01-13T21:11:21.872837Z",
     "shell.execute_reply": "2023-01-13T21:11:21.871829Z"
    },
    "papermill": {
     "duration": 0.017546,
     "end_time": "2023-01-13T21:11:21.874766",
     "exception": false,
     "start_time": "2023-01-13T21:11:21.857220",
     "status": "completed"
    },
    "tags": []
   },
   "outputs": [
    {
     "data": {
      "application/javascript": [
       "parent.postMessage({\"jupyterEvent\": \"custom.exercise_interaction\", \"data\": {\"interactionType\": 3, \"questionType\": 1, \"questionId\": \"3_CountMissingPrices\", \"learnToolsVersion\": \"0.3.4\", \"valueTowardsCompletion\": 0.0, \"failureMessage\": \"\", \"exceptionClass\": \"\", \"trace\": \"\", \"outcomeType\": 4}}, \"*\")"
      ],
      "text/plain": [
       "<IPython.core.display.Javascript object>"
      ]
     },
     "metadata": {},
     "output_type": "display_data"
    },
    {
     "data": {
      "text/markdown": [
       "<span style=\"color:#33cc99\">Solution:</span> \n",
       "```python\n",
       "missing_price_reviews = reviews[reviews.price.isnull()]\n",
       "n_missing_prices = len(missing_price_reviews)\n",
       "# Cute alternative solution: if we sum a boolean series, True is treated as 1 and False as 0\n",
       "n_missing_prices = reviews.price.isnull().sum()\n",
       "# or equivalently:\n",
       "n_missing_prices = pd.isnull(reviews.price).sum()\n",
       "\n",
       "```"
      ],
      "text/plain": [
       "Solution: \n",
       "```python\n",
       "missing_price_reviews = reviews[reviews.price.isnull()]\n",
       "n_missing_prices = len(missing_price_reviews)\n",
       "# Cute alternative solution: if we sum a boolean series, True is treated as 1 and False as 0\n",
       "n_missing_prices = reviews.price.isnull().sum()\n",
       "# or equivalently:\n",
       "n_missing_prices = pd.isnull(reviews.price).sum()\n",
       "\n",
       "```"
      ]
     },
     "metadata": {},
     "output_type": "display_data"
    }
   ],
   "source": [
    "#q3.hint()\n",
    "q3.solution()"
   ]
  },
  {
   "cell_type": "markdown",
   "id": "a3866ff0",
   "metadata": {
    "papermill": {
     "duration": 0.004889,
     "end_time": "2023-01-13T21:11:21.884905",
     "exception": false,
     "start_time": "2023-01-13T21:11:21.880016",
     "status": "completed"
    },
    "tags": []
   },
   "source": [
    "## 4.\n",
    "What are the most common wine-producing regions? Create a Series counting the number of times each value occurs in the `region_1` field. This field is often missing data, so replace missing values with `Unknown`. Sort in descending order.  Your output should look something like this:\n",
    "\n",
    "```\n",
    "Unknown                    21247\n",
    "Napa Valley                 4480\n",
    "                           ...  \n",
    "Bardolino Superiore            1\n",
    "Primitivo del Tarantino        1\n",
    "Name: region_1, Length: 1230, dtype: int64\n",
    "```"
   ]
  },
  {
   "cell_type": "code",
   "execution_count": 8,
   "id": "6cf23875",
   "metadata": {
    "execution": {
     "iopub.execute_input": "2023-01-13T21:11:21.897605Z",
     "iopub.status.busy": "2023-01-13T21:11:21.897219Z",
     "iopub.status.idle": "2023-01-13T21:11:21.938821Z",
     "shell.execute_reply": "2023-01-13T21:11:21.937713Z"
    },
    "papermill": {
     "duration": 0.051091,
     "end_time": "2023-01-13T21:11:21.941062",
     "exception": false,
     "start_time": "2023-01-13T21:11:21.889971",
     "status": "completed"
    },
    "tags": []
   },
   "outputs": [
    {
     "data": {
      "application/javascript": [
       "parent.postMessage({\"jupyterEvent\": \"custom.exercise_interaction\", \"data\": {\"outcomeType\": 1, \"valueTowardsCompletion\": 0.25, \"interactionType\": 1, \"questionType\": 2, \"questionId\": \"4_ReviewsPerRegion\", \"learnToolsVersion\": \"0.3.4\", \"failureMessage\": \"\", \"exceptionClass\": \"\", \"trace\": \"\"}}, \"*\")"
      ],
      "text/plain": [
       "<IPython.core.display.Javascript object>"
      ]
     },
     "metadata": {},
     "output_type": "display_data"
    },
    {
     "data": {
      "text/markdown": [
       "<span style=\"color:#33cc33\">Correct</span>"
      ],
      "text/plain": [
       "Correct"
      ]
     },
     "metadata": {},
     "output_type": "display_data"
    }
   ],
   "source": [
    "reviews_per_region = reviews.region_1.fillna('Unknown').value_counts().sort_values(ascending=False)\n",
    "\n",
    "# Check your answer\n",
    "q4.check()"
   ]
  },
  {
   "cell_type": "code",
   "execution_count": 9,
   "id": "56a6000b",
   "metadata": {
    "execution": {
     "iopub.execute_input": "2023-01-13T21:11:21.954294Z",
     "iopub.status.busy": "2023-01-13T21:11:21.953923Z",
     "iopub.status.idle": "2023-01-13T21:11:21.962159Z",
     "shell.execute_reply": "2023-01-13T21:11:21.961117Z"
    },
    "papermill": {
     "duration": 0.017873,
     "end_time": "2023-01-13T21:11:21.964419",
     "exception": false,
     "start_time": "2023-01-13T21:11:21.946546",
     "status": "completed"
    },
    "tags": []
   },
   "outputs": [
    {
     "data": {
      "application/javascript": [
       "parent.postMessage({\"jupyterEvent\": \"custom.exercise_interaction\", \"data\": {\"interactionType\": 3, \"questionType\": 2, \"questionId\": \"4_ReviewsPerRegion\", \"learnToolsVersion\": \"0.3.4\", \"valueTowardsCompletion\": 0.0, \"failureMessage\": \"\", \"exceptionClass\": \"\", \"trace\": \"\", \"outcomeType\": 4}}, \"*\")"
      ],
      "text/plain": [
       "<IPython.core.display.Javascript object>"
      ]
     },
     "metadata": {},
     "output_type": "display_data"
    },
    {
     "data": {
      "text/markdown": [
       "<span style=\"color:#33cc99\">Solution:</span> \n",
       "```python\n",
       "reviews_per_region = reviews.region_1.fillna('Unknown').value_counts().sort_values(ascending=False)\n",
       "```"
      ],
      "text/plain": [
       "Solution: \n",
       "```python\n",
       "reviews_per_region = reviews.region_1.fillna('Unknown').value_counts().sort_values(ascending=False)\n",
       "```"
      ]
     },
     "metadata": {},
     "output_type": "display_data"
    }
   ],
   "source": [
    "#q4.hint()\n",
    "q4.solution()"
   ]
  },
  {
   "cell_type": "markdown",
   "id": "4c23c217",
   "metadata": {
    "papermill": {
     "duration": 0.005777,
     "end_time": "2023-01-13T21:11:21.976082",
     "exception": false,
     "start_time": "2023-01-13T21:11:21.970305",
     "status": "completed"
    },
    "tags": []
   },
   "source": [
    "# Keep going\n",
    "\n",
    "Move on to **[renaming and combining](https://www.kaggle.com/residentmario/renaming-and-combining)**."
   ]
  },
  {
   "cell_type": "markdown",
   "id": "7629eefe",
   "metadata": {
    "papermill": {
     "duration": 0.005602,
     "end_time": "2023-01-13T21:11:21.987394",
     "exception": false,
     "start_time": "2023-01-13T21:11:21.981792",
     "status": "completed"
    },
    "tags": []
   },
   "source": [
    "---\n",
    "\n",
    "\n",
    "\n",
    "\n",
    "*Have questions or comments? Visit the [course discussion forum](https://www.kaggle.com/learn/pandas/discussion) to chat with other learners.*"
   ]
  }
 ],
 "metadata": {
  "kernelspec": {
   "display_name": "Python 3",
   "language": "python",
   "name": "python3"
  },
  "language_info": {
   "codemirror_mode": {
    "name": "ipython",
    "version": 3
   },
   "file_extension": ".py",
   "mimetype": "text/x-python",
   "name": "python",
   "nbconvert_exporter": "python",
   "pygments_lexer": "ipython3",
   "version": "3.7.12"
  },
  "papermill": {
   "default_parameters": {},
   "duration": 12.32023,
   "end_time": "2023-01-13T21:11:22.715928",
   "environment_variables": {},
   "exception": null,
   "input_path": "__notebook__.ipynb",
   "output_path": "__notebook__.ipynb",
   "parameters": {},
   "start_time": "2023-01-13T21:11:10.395698",
   "version": "2.3.4"
  }
 },
 "nbformat": 4,
 "nbformat_minor": 5
}
